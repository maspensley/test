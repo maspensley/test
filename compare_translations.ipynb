{
 "cells": [
  {
   "cell_type": "markdown",
   "metadata": {},
   "source": [
    "Preamble\n",
    "=======\n",
    "\n",
    "Need to find a *unique* CDS start position for each protein encoding locus.\n",
    "\n",
    "Load up data, find model with longest ORF\n",
    "    1. Check this against the TAIR10 rep model\n",
    "    2. Check how many transcript match this vs the number with upstream or downstream ATGs\n",
    "\n"
   ]
  },
  {
   "cell_type": "code",
   "execution_count": 2,
   "metadata": {
    "collapsed": true
   },
   "outputs": [],
   "source": [
    "import numpy as np\n",
    "from matplotlib import pyplot as plt\n",
    "from matplotlib_venn import venn3, venn3_circles\n",
    "\n",
    "% matplotlib inline"
   ]
  },
  {
   "cell_type": "code",
   "execution_count": 3,
   "metadata": {
    "collapsed": false
   },
   "outputs": [],
   "source": [
    "class Gene(object):\n",
    "    def __init__(self, name):\n",
    "        assert name.startswith('AT')\n",
    "        self.name = name\n",
    "        self.transcript_dict = {}\n",
    "        self.repr_model = ''\n",
    "        self.atg_list = []\n",
    "        self.rep_atg = ''\n",
    "        self.transposon = False\n",
    "        \n",
    "    def add_sense(self, sense):\n",
    "        assert sense == '-' or sense == '+'\n",
    "        self.sense = sense\n",
    "        \n",
    "    def add_feature_tair(self, line_fields):\n",
    "        '''\n",
    "        Take information from a line of a GFF3 file and use it to\n",
    "        populate an instance of the Gene model.\n",
    "        This method is particular to TAIR10, where the GFF3 file is\n",
    "        arranged differently to Araport11\n",
    "        '''\n",
    "        # use parent info to get model_id\n",
    "        feature = line_fields[8]\n",
    "        if line_fields[2] == 'mRNA':\n",
    "            transcript_ID = feature[3:14]\n",
    "        else:\n",
    "            if feature.startswith('Parent='): # TAIR10 style\n",
    "                feature = feature.split(',')\n",
    "                transcript_ID = feature[0][7:]\n",
    "\n",
    "        assert transcript_ID.startswith('AT')\n",
    "        assert transcript_ID[:9] == self.name\n",
    "        \n",
    "        if transcript_ID not in self.transcript_dict:\n",
    "            transcript_model = Transcript(transcript_ID)\n",
    "            transcript_model.sense = line_fields[6]\n",
    "            self.transcript_dict.update({transcript_ID:transcript_model})\n",
    "        transcript_model = self.transcript_dict[transcript_ID]\n",
    "        \n",
    "        if line_fields[2] == 'mRNA':\n",
    "            transcript_ID = feature[3:14]\n",
    "            mRNA_bounds = [line_fields[3], line_fields[4]]\n",
    "            transcript_model.mRNA = mRNA_bounds    \n",
    "  \n",
    "        if line_fields[2] == 'CDS':# and proteinCoding == True:\n",
    "            cds_coords = [int(line_fields[3]), int(line_fields[4])]\n",
    "            transcript_model.add_CDS(cds_coords)\n",
    "\n",
    "        if line_fields[2] == 'exon':# and proteinCoding == True:\n",
    "            exon_coords = [int(line_fields[3]), int(line_fields[4])]\n",
    "            transcript_model.add_exon(exon_coords)\n",
    "        self.transcript_dict.update({transcript_ID:transcript_model})\n",
    "        \n",
    "        \n",
    "    def add_feature_araport(self, line_fields):\n",
    "        '''\n",
    "        Take information from a line of a GFF3 file and use it to\n",
    "        populate an instance of the Gene model.\n",
    "        This method is particular to Araport11, where the GFF3 file is\n",
    "        arranged differently to TAIR10:\n",
    "        While TAIR10 lists each exon, cds etc on an individual line for\n",
    "        each transcript model, Araport11 lists all the transcripts\n",
    "        that contain that feature.\n",
    "        '''\n",
    "        feature = line_fields[8]\n",
    "        if 'retrotransposon' in feature:\n",
    "            self.transposon = True\n",
    "        if line_fields[2] == 'mRNA':\n",
    "            transcript_ID_list = [feature[3:14]]\n",
    "        else:\n",
    "            if feature.startswith('ID='): # Araport11 style\n",
    "                feature = feature.split(';')\n",
    "                transcript_ID_list = feature[1][7:].split(',')\n",
    "\n",
    "        for transcript_ID in transcript_ID_list:\n",
    "            assert transcript_ID.startswith('AT')\n",
    "            assert transcript_ID[:9] == self.name\n",
    "            \n",
    "            if transcript_ID not in self.transcript_dict:\n",
    "                transcript_model = Transcript(transcript_ID)\n",
    "                transcript_model.sense = line_fields[6]\n",
    "                self.transcript_dict.update({transcript_ID:transcript_model})\n",
    "            transcript_model = self.transcript_dict[transcript_ID]\n",
    "            \n",
    "            if line_fields[2] == 'mRNA':\n",
    "                transcript_ID = feature[3:14]\n",
    "                mRNA_bounds = [line_fields[3], line_fields[4]]\n",
    "                transcript_model.mRNA = mRNA_bounds\n",
    "\n",
    "            if line_fields[2] == 'CDS':# and proteinCoding == True:\n",
    "                cds_coords = [int(line_fields[3]), int(line_fields[4])]\n",
    "                transcript_model.add_CDS(cds_coords)\n",
    "\n",
    "            if line_fields[2] == 'exon':# and proteinCoding == True:\n",
    "                exon_coords = [int(line_fields[3]), int(line_fields[4])]\n",
    "                transcript_model.add_exon(exon_coords)\n",
    "            self.transcript_dict.update({transcript_ID:transcript_model})\n",
    "        return\n",
    "\n",
    "    def get_atg_list(self):\n",
    "        atg_list = [[],[]]\n",
    "        for transcript_ID in self.transcript_dict:\n",
    "            transcript_model = self.transcript_dict[transcript_ID]\n",
    "            atg = transcript_model.get_atg()\n",
    "            atg_list[0].append(transcript_ID)\n",
    "            atg_list[1].append(atg)\n",
    "        return atg_list\n",
    "    \n",
    "    def get_orf_lengths(self):\n",
    "        orf_lengths = [[],[]]\n",
    "        for transcript_ID in self.transcript_dict:\n",
    "            transcript_model = self.transcript_dict[transcript_ID]\n",
    "            orf_length = transcript_model.get_orf_length()\n",
    "            orf_lengths[0].append(transcript_ID)\n",
    "            orf_lengths[1].append(orf_length)\n",
    "        return orf_lengths\n",
    "   \n",
    "    def mRNA_lengths(self):\n",
    "        mRNA_lengths = [[],[]]\n",
    "        for transcript_ID in self.transcript_dict:\n",
    "            transcript_model = self.transcript_dict[transcript_ID]\n",
    "            mRNA = transcript_model.mRNA\n",
    "            if mRNA == None: # non-coding transcript model at a coding locus\n",
    "                continue\n",
    "            mRNA_length = 1 + int(mRNA[1]) - int(mRNA[0])\n",
    "            mRNA_lengths[0].append(transcript_ID)\n",
    "            mRNA_lengths[1].append(mRNA_length)\n",
    "        return mRNA_lengths\n",
    "              \n",
    "    def add_bounds(self, bounds):\n",
    "        self.boundaries = bounds\n",
    "        return\n",
    "\n",
    "#############################################################################################\n",
    "        \n",
    "        \n",
    "class Transcript(object):\n",
    "    def __init__(self, name):\n",
    "        self.name = name\n",
    "        self.sense = None\n",
    "        self.mRNA = None\n",
    "        self.exon_list = []\n",
    "        self.cds_list = []\n",
    "        self.orf = []\n",
    "        self.seq = ''\n",
    "        self.cds_trim_seq = ''\n",
    "\n",
    "    def add_exon(self, exon):\n",
    "        if exon not in self.exon_list:\t# instances in Yamile's data of duplicate transcript descriptions\n",
    "            self.exon_list.append(exon)\n",
    "            self.exon_list.sort()\n",
    "        else: pass\n",
    "    def add_CDS(self, cds):\n",
    "        self.cds_list.append(cds)\n",
    "        self.cds_list.sort()\n",
    "        self.orf = [self.cds_list[0][0], self.cds_list[-1][1]]\n",
    "    def add_ORF(self, ORF):\n",
    "        self.orf = ORF     \n",
    "    def get_atg(self):\n",
    "        if self.sense == '+' and self.cds_list != []:\n",
    "            return self.cds_list[0][0]\n",
    "        elif self.sense == '-' and self.cds_list != []:\n",
    "            return self.cds_list[-1][1]\n",
    "        else: return # There is one transcript, AT1G77080.1, that has no annotated CDS\n",
    "            \n",
    "    def get_orf_length(self):\n",
    "        if self.cds_list != []:\n",
    "            return 1 + self.cds_list[-1][1] - self.cds_list[0][0]\n",
    "        else: return\n",
    "\n",
    "#############################################################################################"
   ]
  },
  {
   "cell_type": "code",
   "execution_count": 4,
   "metadata": {
    "collapsed": false
   },
   "outputs": [],
   "source": [
    "def add_locus_model(locus_dict, line_fields):\n",
    "    locus_ID = line_fields[8][3:12]\n",
    "    if locus_ID not in locus_dict: # necessary? surely only one instance of each \n",
    "        gene_model = Gene(locus_ID)\n",
    "    else:\n",
    "        print locus_ID + \": more than one instance in GFF file\"\n",
    "        gene_model = locus_dict[locus_ID]\n",
    "\n",
    "    gene_coords = [int(line_fields[3]), int(line_fields[4])]\n",
    "    gene_model.add_bounds(gene_coords)\n",
    "    gene_model.add_sense(line_fields[6])\n",
    "    locus_dict.update({locus_ID: gene_model})\n",
    "    return locus_dict\n",
    "\n",
    "\n",
    "def get_models(gff_lines, source):\n",
    "    locus_dict = {}\n",
    "    for line in gff_lines:\n",
    "        line=line.strip()\n",
    "        if line.startswith('#'):\n",
    "            continue\n",
    "        line_fields = line.split('\\t')\n",
    "        if line_fields[2] == 'chromosome':\n",
    "            continue\n",
    "        if line_fields[2] == 'protein':\n",
    "            continue\n",
    "        \n",
    "        if line_fields[2][-4:] == 'gene':                      #second index allows for 'genes' and 'transposable_element_gene' etc\n",
    "            if line_fields[8][18:37] != 'protein_coding_gene' and source == 'tair':\n",
    "                proteinCoding = False\n",
    "                continue\n",
    "            else:\n",
    "                proteinCoding = True\n",
    "                locus_ID = line_fields[8].split(';')[0][3:12]\n",
    "                if not locus_ID.startswith('AT'):\n",
    "                    print line\n",
    "                locus_dict = add_locus_model(locus_dict, line_fields)\n",
    "        else:\n",
    "            if proteinCoding is True:# need proteinCoding is True to pass through here\n",
    "                locus_model = locus_dict[locus_ID]\n",
    "                if source == 'tair':\n",
    "                    locus_model.add_feature_tair(line_fields)\n",
    "                if source == 'araport':\n",
    "                    locus_model.add_feature_araport(line_fields)\n",
    "    return locus_dict\n",
    "\n",
    "\n",
    "\n",
    "def calc_venn_sizes(A,B,C):\n",
    "    a = A.difference(B).difference(C)\n",
    "    b = B.difference(A).difference(C)\n",
    "    c = A.intersection(B).difference(C)\n",
    "    d = C.difference(A).difference(B)\n",
    "    e = A.intersection(C).difference(B)\n",
    "    f = B.intersection(C).difference(A)\n",
    "    g= A.intersection(B).intersection(C)\n",
    "\n",
    "    # Subset sizes\n",
    "    s = (\n",
    "        len(a),    # Abc\n",
    "        len(b),    # aBc\n",
    "        len(c),    # ABc\n",
    "        len(d),    # abC\n",
    "        len(e),    # AbC\n",
    "        len(f),  # aBC\n",
    "        len(g)    # ABC\n",
    "    )\n",
    "    return s\n",
    "\n",
    "\n",
    "\n",
    "def format_venn(v):\n",
    "    # Subset labels\n",
    "    v.get_label_by_id('100').set_text('Abc')\n",
    "    v.get_label_by_id('010').set_text('aBc')\n",
    "    v.get_label_by_id('110').set_text('ABc')\n",
    "    v.get_label_by_id('001').set_text('Abc')\n",
    "    v.get_label_by_id('101').set_text('aBc')\n",
    "    v.get_label_by_id('011').set_text('ABc')\n",
    "    v.get_label_by_id('111').set_text('ABC')\n",
    "\n",
    "    # Subset colors\n",
    "    v.get_patch_by_id('100').set_color('c')\n",
    "    v.get_patch_by_id('010').set_color('#993333')\n",
    "    v.get_patch_by_id('110').set_color('blue')\n",
    "   \n",
    "    # Subset alphas\n",
    "    v.get_patch_by_id('101').set_alpha(0.4)\n",
    "    v.get_patch_by_id('011').set_alpha(1.0)\n",
    "    v.get_patch_by_id('111').set_alpha(0.7)\n",
    "\n",
    "    # Border styles\n",
    "    c = venn3_circles(subsets=s, linestyle='solid')\n",
    "    c[0].set_ls('dotted')  # Line style\n",
    "    c[1].set_ls('dashed')\n",
    "    c[2].set_lw(1.0)       # Line width\n",
    "    return v\n"
   ]
  },
  {
   "cell_type": "code",
   "execution_count": 5,
   "metadata": {
    "collapsed": false
   },
   "outputs": [],
   "source": [
    "infile = open('./TAIR10_GFF3_genes.gff', 'rU')\n",
    "gff_lines = infile.readlines()\n",
    "infile.close()\n",
    "tair = get_models(gff_lines, 'tair')\n",
    "\n",
    "infile = open('./Araport11_genes.20151202.gff3', 'rU')\n",
    "gff_lines = infile.readlines()\n",
    "infile.close()\n",
    "araport = get_models(gff_lines, 'araport')\n",
    "\n",
    "infile = open('./Araport11_genes.20151202.gff3', 'rU')\n",
    "gff_lines = infile.readlines()\n",
    "infile.close()\n",
    "araport2 = get_models(gff_lines, 'araport')\n",
    "\n",
    "infile = open('./TAIR10_representative_gene_models.txt')\n",
    "lines = infile.readlines()\n",
    "infile.close()\n",
    "\n",
    "rep_models = {}\n",
    "\n",
    "for line in lines:\n",
    "    line = line.strip()\n",
    "    if not line.startswith('AT'):\n",
    "        continue\n",
    "    locus_id = line[:9]\n",
    "    rep_models.update({locus_id:line})"
   ]
  },
  {
   "cell_type": "markdown",
   "metadata": {},
   "source": [
    "# 1. The extent of the problem\n",
    "How many loci in TAIR10 and Araport11 have more than one annotated ORF start?"
   ]
  },
  {
   "cell_type": "code",
   "execution_count": 6,
   "metadata": {
    "collapsed": false
   },
   "outputs": [
    {
     "name": "stdout",
     "output_type": "stream",
     "text": [
      "Number of TAIR10 loci with more than one translational start: 1273, 4.6 %\n",
      "Number of araport11 loci with more than one translational start: 3693, 13.3 %\n"
     ]
    },
    {
     "data": {
      "image/png": "[encoded data removed]",
      "text/plain": [
       "<matplotlib.figure.Figure at 0x4027278>"
      ]
     },
     "metadata": {},
     "output_type": "display_data"
    }
   ],
   "source": [
    "tair_atg_counts = []\n",
    "\n",
    "for locus_id in tair:\n",
    "    locus_model = tair[locus_id]\n",
    "    atg_set = set(locus_model.get_atg_list()[1])\n",
    "    if len(atg_set) > 2:\n",
    "        pass\n",
    "        #print locus_id, locus_model.get_atg_list()\n",
    "    tair_atg_counts.append(len(atg_set))\n",
    "    \n",
    "araport_atg_counts = []\n",
    "\n",
    "for locus_id in araport:\n",
    "    locus_model = araport[locus_id]\n",
    "    try:\n",
    "        atg_set = set(locus_model.get_atg_list()[1])\n",
    "        araport_atg_counts.append(len(atg_set))\n",
    "    except:\n",
    "        print locus_id, ###\n",
    "\n",
    "tac = np.array(tair_atg_counts)\n",
    "tair_2plus_atg = np.sum(tac > 1)\n",
    "tair_2plus_pcnt = 100* tair_2plus_atg / float(len(tair))\n",
    "print 'Number of TAIR10 loci with more than one translational start: %d, %.1f %%' %(tair_2plus_atg, tair_2plus_pcnt)\n",
    "aac =  np.array(araport_atg_counts)\n",
    "ara_2plus_atg = np.sum(aac > 1)\n",
    "ara_2plus_pcnt = 100* ara_2plus_atg / float(len(araport))\n",
    "print 'Number of araport11 loci with more than one translational start: %d, %.1f %%' %(ara_2plus_atg, ara_2plus_pcnt)\n",
    "    \n",
    "plt.hist(tair_atg_counts, bins=[0.5,1.5,2.5,3.5,4.5])\n",
    "\n",
    "plt.hist(araport_atg_counts,bins=[0.5,1.5,2.5,3.5,4.5], alpha=0.5)\n",
    "plt.show()\n",
    "\n"
   ]
  },
  {
   "cell_type": "markdown",
   "metadata": {},
   "source": [
    "# 2. Possible solutions:\n",
    "## a. Fix ATG at the most common position: "
   ]
  },
  {
   "cell_type": "code",
   "execution_count": 7,
   "metadata": {
    "collapsed": false
   },
   "outputs": [
    {
     "name": "stdout",
     "output_type": "stream",
     "text": [
      "Loci in TAIR10 with no majority CDS start: 854\n",
      "Loci in araport11 with no majority CDS start: 1959\n",
      "len(tair_maj) 33102\n",
      "len(ara_maj) 41053\n",
      "len(tair_maj.intersection(ara_maj)) 30673\n",
      "len(tair_maj.intersection(rep_set)) 26435\n",
      "len(ara_maj.intersection(rep_set)) 24474\n",
      "len(tair_maj.intersection(ara_maj).intersection(rep_set)) 24274\n"
     ]
    }
   ],
   "source": [
    "# Check how many CDS start positions could be determined by a majority position?\n",
    "def get_majority_atg_tscripts(majority_atg_pos, locus_model):\n",
    "    majority_atg_tscripts = []\n",
    "    transcript_dict = locus_model.transcript_dict\n",
    "    for transcript_id in transcript_dict:\n",
    "        transcript_model = transcript_dict[transcript_id]\n",
    "        atg_pos = transcript_model.get_atg()\n",
    "        if atg_pos == majority_atg_pos:\n",
    "            majority_atg_tscripts.append(transcript_id)\n",
    "    return majority_atg_tscripts\n",
    "\n",
    "\n",
    "def characterise_CDS_starts(locus_dict):\n",
    "    no_max =[]\n",
    "    majority_determined= []\n",
    "    \n",
    "    for locus_id in locus_dict:\n",
    "        locus_model = locus_dict[locus_id]\n",
    "        atg_list = locus_model.get_atg_list()\n",
    "        atg_set = set(atg_list[1]) # get set of ATG positions\n",
    "        instance_counts = []\n",
    "\n",
    "        atg_map = []\n",
    "        if len(atg_set) == 1:\n",
    "            majority_determined.extend(locus_model.transcript_dict.keys())\n",
    "            continue\n",
    "        for element in atg_set:\n",
    "            n = atg_list[1].count(element) # for each unique ATG pos. find the number of models containing it\n",
    "            instance_counts.append(n)\n",
    "            atg_map.append(element)\n",
    "        max_n = max(instance_counts)\n",
    "        \n",
    "        if instance_counts.count(max_n) > 1: # most frequent atg is not unique\n",
    "            no_max.append(locus_id)\n",
    "        else: # find counts for second most common position\n",
    "            majority_atg_pos = atg_map[instance_counts.index(max_n)]\n",
    "            majority_atg_tscripts = get_majority_atg_tscripts(majority_atg_pos, locus_model)\n",
    "            \n",
    "            majority_determined.extend(majority_atg_tscripts)\n",
    "            instance_counts.remove(max_n)\n",
    "            new_max_n = max(instance_counts)     \n",
    "    return no_max, majority_determined\n",
    "\n",
    "\n",
    "tair_no_majority_loci, tair_maj_tscripts  = characterise_CDS_starts(tair)\n",
    "print \"Loci in TAIR10 with no majority CDS start:\", len(tair_no_majority_loci)\n",
    "\n",
    "araport_no_majority_loci, araport_maj_tscripts= characterise_CDS_starts(araport)\n",
    "print \"Loci in araport11 with no majority CDS start:\", len(araport_no_majority_loci)\n",
    "\n",
    "tair_maj = set(tair_maj_tscripts)\n",
    "ara_maj = set(araport_maj_tscripts)\n",
    "rep_set = set(rep_models.values())\n",
    "\n",
    "print 'len(tair_maj)',len(tair_maj)\n",
    "print 'len(ara_maj)',len(ara_maj)\n",
    "print 'len(tair_maj.intersection(ara_maj))',len(tair_maj.intersection(ara_maj))\n",
    "\n",
    "print 'len(tair_maj.intersection(rep_set))',len(tair_maj.intersection(rep_set))\n",
    "print 'len(ara_maj.intersection(rep_set))',len(ara_maj.intersection(rep_set))\n",
    "print 'len(tair_maj.intersection(ara_maj).intersection(rep_set))',len(tair_maj.intersection(ara_maj).intersection(rep_set))"
   ]
  },
  {
   "cell_type": "markdown",
   "metadata": {},
   "source": [
    "Selecting a reference CDS start by selecting the most common among all transcripts will not work universally. There are many loci where there is no unique most common CDS start. However, the information might still be useful for verifying other methods of anchoring the CDS."
   ]
  },
  {
   "cell_type": "code",
   "execution_count": 8,
   "metadata": {
    "collapsed": false
   },
   "outputs": [],
   "source": [
    "# check that the longest ORF(s) match the reference ATG given in TAIR10\n",
    "# see how that matches the longest transcript\n",
    "# see how that matches the most common atg\n"
   ]
  },
  {
   "cell_type": "markdown",
   "metadata": {},
   "source": [
    "## b. Look for the transcript with the longest CDS and fix the ATG for all other models"
   ]
  },
  {
   "cell_type": "code",
   "execution_count": 9,
   "metadata": {
    "collapsed": false
   },
   "outputs": [
    {
     "name": "stdout",
     "output_type": "stream",
     "text": [
      "TAIR10, no rep model at this locus:  0\n",
      "araport11, no rep model at this locus:  736\n",
      "\n",
      "number of rep models 33602\n",
      "number of tair max orfs 31893\n",
      "tair max orfs in rep 27075\n",
      "number of ara max orfs 36559\n",
      "ara max orfs in rep 25451\n",
      "overlap of ara max orf and tair max orf 30006\n"
     ]
    },
    {
     "data": {
      "text/plain": [
       "(array([  2.58290000e+04,   1.13800000e+03,   5.64000000e+02,\n",
       "          6.90000000e+01,   3.30000000e+01,   2.20000000e+01,\n",
       "          3.00000000e+00,   8.00000000e+00,   0.00000000e+00,\n",
       "          1.00000000e+00]),\n",
       " array([  1. ,   2.4,   3.8,   5.2,   6.6,   8. ,   9.4,  10.8,  12.2,\n",
       "         13.6,  15. ]),\n",
       " <a list of 10 Patch objects>)"
      ]
     },
     "execution_count": 9,
     "metadata": {},
     "output_type": "execute_result"
    },
    {
     "data": {
      "image/png": "[encoded data removed]",
      "text/plain": [
       "<matplotlib.figure.Figure at 0x7bcbd68>"
      ]
     },
     "metadata": {},
     "output_type": "display_data"
    }
   ],
   "source": [
    "def characterise_max_orfs(rep_models, locus_dict, name):\n",
    "    missing_counter = 0\n",
    "    true_counter = 0\n",
    "    false_counter = 0\n",
    "    max_orf_transcripts = []\n",
    "    max_orf_counts = []\n",
    "    for locus_id in locus_dict:\n",
    "        locus_model = locus_dict[locus_id]\n",
    "        orf_data = locus_model.get_orf_lengths()\n",
    "        max_orf_length = max(orf_data[1]) # finds the maximum value, which may occur more than once\n",
    "        max_orf_models = []\n",
    "        max_orf_atg = []\n",
    "        for i, orf_length in enumerate(orf_data[1]):\n",
    "            if orf_length == max_orf_length:\n",
    "                transcript_id = orf_data[0][i]\n",
    "                max_orf_models.append(transcript_id)\n",
    "                atg = locus_model.transcript_dict[transcript_id].get_atg()\n",
    "                max_orf_atg.append(atg)\n",
    "        if locus_id not in rep_models:\n",
    "            missing_counter += 1\n",
    "        elif rep_models[locus_id] in max_orf_models:\n",
    "            true_counter += 1\n",
    "        else: false_counter += 1\n",
    "        if len(set(max_orf_atg)) > 1: # There may be many maximal ORFs: check they all have the same ATG\n",
    "            print locus_id, len(set(max_orf_atg))\n",
    "        locus_model.rep_atg = max_orf_atg[0] ####################################################\n",
    "        locus_dict.update({locus_id:locus_model}) ################################################\n",
    "        ###############Check max_orf_atg is in all models, otherwise try next max orf\n",
    "\n",
    "        max_orf_transcripts.extend(max_orf_models)\n",
    "        n_max_models = len(max_orf_models)\n",
    "        max_orf_counts.append(n_max_models)\n",
    "    \n",
    "    print name + \", no rep model at this locus: \", missing_counter\n",
    "    return max_orf_transcripts, max_orf_counts, locus_dict\n",
    "        \n",
    "        \n",
    "tair_max_orf_models, tair_n_list, tair = characterise_max_orfs(rep_models, tair, 'TAIR10')\n",
    "araport_max_orf_models, ara_n_list, araport = characterise_max_orfs(rep_models, araport, 'araport11')\n",
    "\n",
    "\n",
    "ara_set = set(araport_max_orf_models)\n",
    "tair_set = set(tair_max_orf_models)\n",
    "print\n",
    "\n",
    "x = ara_set.intersection(tair_set)\n",
    "rep_set = set(rep_models.values())\n",
    "print \"number of rep models\", len(rep_set)\n",
    "print \"number of tair max orfs\", len(tair_set)\n",
    "\n",
    "\n",
    "print \"tair max orfs in rep\",len(tair_set.intersection(rep_set))\n",
    "print \"number of ara max orfs\",len(ara_set)\n",
    "\n",
    "print \"ara max orfs in rep\",len(ara_set.intersection(rep_set))\n",
    "print \"overlap of ara max orf and tair max orf\", len(x)\n",
    "\n",
    "plt.hist(tair_n_list)\n",
    "plt.hist(ara_n_list, alpha=0.5)"
   ]
  },
  {
   "cell_type": "code",
   "execution_count": null,
   "metadata": {
    "collapsed": false
   },
   "outputs": [],
   "source": []
  },
  {
   "cell_type": "markdown",
   "metadata": {},
   "source": [
    "### Now try max_orf qualified with requirement for atg to be present in all models\n",
    "avoids problems like this:\n",
    "https://apps.araport.org/thalemine/report.do?id=2464467\n",
    "\n",
    "The maximum ORF is only possible in a minority of transcripts due to the alternative splicing of an upstream exon containing an in-frame CDS. The reference ATG should present in as many transcripts as possible.\n",
    "\n",
    "Next step, where the max ORF does not give a universal ATG, is to move to the next biggest ORF and check whether that satisfies that condition, iteratively."
   ]
  },
  {
   "cell_type": "code",
   "execution_count": 10,
   "metadata": {
    "collapsed": false
   },
   "outputs": [
    {
     "name": "stdout",
     "output_type": "stream",
     "text": [
      "No universal ATG among annotated CDS models:  147\n",
      "No universal ATG among annotated CDS models:  415\n",
      "\n",
      "\n",
      "number of rep models 33602\n",
      "number of tair max orfs 31881\n",
      "number of araport max orfs 36557\n",
      "\n",
      "\n",
      "tair max orfs in rep 26609\n",
      "araport max orfs in rep 25013\n",
      "overlap of araport max orf and tair max orf 29360\n"
     ]
    },
    {
     "data": {
      "image/png": "[encoded data removed]",
      "text/plain": [
       "<matplotlib.figure.Figure at 0x3647aac8>"
      ]
     },
     "metadata": {},
     "output_type": "display_data"
    }
   ],
   "source": [
    "def get_max_atg(orf_data, locus_model):\n",
    "    max_orf_length = max(orf_data[1]) # finds the maximum value, which may occur more than once\n",
    "    max_orf_models = []\n",
    "    max_orf_atg = []\n",
    "    for i, orf_length in enumerate(orf_data[1]):\n",
    "        if orf_length == max_orf_length:\n",
    "            transcript_id = orf_data[0][i]\n",
    "            max_orf_models.append(transcript_id)\n",
    "            atg = locus_model.transcript_dict[transcript_id].get_atg()\n",
    "            max_orf_atg.append(atg)\n",
    "    assert len(set(max_orf_atg)) == 1\n",
    "    return max_orf_atg[0], max_orf_models\n",
    "\n",
    "def check_atg_universal(atg, locus_model):\n",
    "    transcript_dict = locus_model.transcript_dict\n",
    "    for transcript_id in transcript_dict:\n",
    "        atg_present = False\n",
    "        transcript_model = transcript_dict[transcript_id]\n",
    "        exon_list=transcript_model.exon_list\n",
    "        for exon in exon_list:\n",
    "            if atg in range(exon[0], exon[1]+1):\n",
    "                atg_present = True\n",
    "        if atg_present is False:\n",
    "            return False\n",
    "    return True\n",
    "\n",
    "\n",
    "def characterise_max_orfs2(rep_models, locus_dict, name):\n",
    "    ambiguous_locus = []\n",
    "    max_orf_transcripts = []\n",
    "    max_orf_counts = []\n",
    "    for locus_id in locus_dict:\n",
    "        locus_model = locus_dict[locus_id]\n",
    "        orf_data = locus_model.get_orf_lengths()\n",
    "        \n",
    "        atg, max_orf_models = get_max_atg(orf_data, locus_model)\n",
    "        while check_atg_universal(atg, locus_model) is False:\n",
    "            #remove all instances of current atg\n",
    "            new_orf_data = [[],[]]\n",
    "            try:\n",
    "                max_orf_length = max(orf_data[1])\n",
    "            except: \n",
    "                break\n",
    "            for i, orf_length in enumerate(orf_data[1]):\n",
    "                if orf_length != max_orf_length:\n",
    "                    new_orf_data[0].append(orf_data[0][i])\n",
    "                    new_orf_data[1].append(orf_data[1][i])\n",
    "            orf_data = new_orf_data\n",
    "            try:\n",
    "                atg, max_orf_models = get_max_atg(orf_data, locus_model)\n",
    "            except:\n",
    "                ambiguous_locus.append(locus_id)\n",
    "                #print locus_id, locus_model.get_orf_lengths()\n",
    "\n",
    "\n",
    "        locus_dict.update({locus_id:locus_model})\n",
    "\n",
    "\n",
    "        max_orf_transcripts.extend(max_orf_models)\n",
    "        n_max_models = len(max_orf_models)\n",
    "        max_orf_counts.append(n_max_models)\n",
    "\n",
    "    print \"No universal ATG among annotated CDS models: \",len(ambiguous_locus)\n",
    "        \n",
    "    return max_orf_transcripts, max_orf_counts, locus_dict\n",
    "        \n",
    "        \n",
    "tair_max_orf_models, tair_n_list, tair = characterise_max_orfs2(rep_models, tair, 'TAIR10')\n",
    "araport_max_orf_models, ara_n_list, araport = characterise_max_orfs2(rep_models, araport, 'araport11')\n",
    "\n",
    "\n",
    "ara_set_mod = set(araport_max_orf_models)\n",
    "tair_set_mod = set(tair_max_orf_models)\n",
    "print '\\n'\n",
    "\n",
    "x = ara_set.intersection(tair_set_mod)\n",
    "rep_set = set(rep_models.values())\n",
    "print \"number of rep models\", len(rep_set)\n",
    "print \"number of tair max orfs\", len(tair_set_mod)\n",
    "print \"number of araport max orfs\",len(ara_set_mod)\n",
    "print '\\n'\n",
    "\n",
    "print \"tair max orfs in rep\",len(tair_set_mod.intersection(rep_set))\n",
    "\n",
    "print \"araport max orfs in rep\",len(ara_set_mod.intersection(rep_set))\n",
    "print \"overlap of araport max orf and tair max orf\", len(x)\n",
    "\n",
    "plt.hist(tair_n_list)\n",
    "plt.hist(ara_n_list, alpha=0.5)\n",
    "plt.show()"
   ]
  },
  {
   "cell_type": "code",
   "execution_count": 11,
   "metadata": {
    "collapsed": false
   },
   "outputs": [
    {
     "name": "stdout",
     "output_type": "stream",
     "text": [
      "27416 3522\n",
      "27667 5724\n"
     ]
    }
   ],
   "source": [
    "print len(tair_n_list), len(tair_n_list) -  tair_n_list.count(1)\n",
    "print len(ara_n_list), len(ara_n_list)- ara_n_list.count(1)\n",
    "\n",
    "# do these define different ATGs? probably not. \n",
    "# did I write a method get_atg() for the transccript class?"
   ]
  },
  {
   "cell_type": "markdown",
   "metadata": {},
   "source": [
    "## c. Look for the longest transcript at a locus and fix the ATG for all other models"
   ]
  },
  {
   "cell_type": "code",
   "execution_count": 12,
   "metadata": {
    "collapsed": false
   },
   "outputs": [
    {
     "name": "stdout",
     "output_type": "stream",
     "text": [
      "===\n",
      "\n",
      "max mrna models in tair:  29236\n",
      "max mrna models in araport:  30938\n",
      "overlap between max orf and max mrna in tair:  27909\n",
      "overlap between max orf and max mrna in araport:  27895\n",
      "overlap between max mrnas in tair and araport:  24521\n"
     ]
    },
    {
     "data": {
      "image/png": "[encoded data removed]",
      "text/plain": [
       "<matplotlib.figure.Figure at 0x36307eb8>"
      ]
     },
     "metadata": {},
     "output_type": "display_data"
    }
   ],
   "source": [
    "# method of longest mRNA\n",
    "def characterise_max_mrna(locus_dict):\n",
    "    max_mrna_models = []\n",
    "    for locus_id in locus_dict:\n",
    "        locus_model = locus_dict[locus_id]\n",
    "        mrna_data = locus_model.mRNA_lengths()\n",
    "        max_mrna_length = max(mrna_data[1]) # finds the maximum value, which may occur more than once\n",
    "        max_local_models = []\n",
    "        for i, mrna_length in enumerate(mrna_data[1]):\n",
    "            if mrna_length == max_mrna_length:\n",
    "                max_local_models.append(mrna_data[0][i])\n",
    "       \n",
    "        max_mrna_models.extend(max_local_models)\n",
    "    return max_mrna_models\n",
    "\n",
    "tair_max_mrna_models = characterise_max_mrna(tair)\n",
    "araport_max_mrna_models = characterise_max_mrna(araport)\n",
    "\n",
    "tair_mrna_set = set(tair_max_mrna_models)\n",
    "ara_mrna_set = set(araport_max_mrna_models)\n",
    "\n",
    "p = tair_set.intersection(tair_mrna_set)\n",
    "q= ara_set.intersection(ara_mrna_set)\n",
    "\n",
    "r = tair_mrna_set.intersection(ara_mrna_set)\n",
    "##############################################################################################\n",
    "#                         TIDY THIS UP!                                                      #\n",
    "##############################################################################################\n",
    "\n",
    "print '==='\n",
    "print \n",
    "print \"max mrna models in tair: \", len(tair_mrna_set)\n",
    "print \"max mrna models in araport: \",len(ara_mrna_set)\n",
    "print \"overlap between max orf and max mrna in tair: \",len(p)\n",
    "print \"overlap between max orf and max mrna in araport: \",len(q)\n",
    "print \"overlap between max mrnas in tair and araport: \",len(r)\n",
    "\n",
    "A= set(rep_models.values())\n",
    "B = tair_mrna_set\n",
    "C = ara_set\n",
    "# make a function to get subset sizes\n",
    "#Let A be rep models, B be max mRNA models and C be max ORF models\n",
    "#Abc\n",
    "\n",
    "s= calc_venn_sizes(A,B,C)\n",
    "v = venn3(subsets=s, set_labels=('rep', 'mrna', 'orf'))\n",
    "format_venn(v)\n",
    "plt.show()"
   ]
  },
  {
   "cell_type": "code",
   "execution_count": 13,
   "metadata": {
    "collapsed": false
   },
   "outputs": [
    {
     "ename": "SyntaxError",
     "evalue": "invalid syntax (<ipython-input-13-b88150bff0a0>, line 2)",
     "output_type": "error",
     "traceback": [
      "\u001b[1;36m  File \u001b[1;32m\"<ipython-input-13-b88150bff0a0>\"\u001b[1;36m, line \u001b[1;32m2\u001b[0m\n\u001b[1;33m    2venn for each method tried, between tair10 and araport (maybe make tair10 rep 3 venn)\u001b[0m\n\u001b[1;37m        ^\u001b[0m\n\u001b[1;31mSyntaxError\u001b[0m\u001b[1;31m:\u001b[0m invalid syntax\n"
     ]
    }
   ],
   "source": [
    "# show changes in annotation between tair10 and araport11: how different are they?\n",
    "2venn for each method tried, between tair10 and araport (maybe make tair10 rep 3 venn)\n",
    "\n",
    "\n",
    "3venn for each database, showing overlap between methods\n"
   ]
  },
  {
   "cell_type": "markdown",
   "metadata": {},
   "source": [
    "## From araport11:\n",
    "https://www.araport.org/data/araport11\n",
    "\n",
    "<table class=\"dataStatsTable\">\n",
    "<tr class='even'><th></th><th>TAIR10<br />(11/2010)</th><th>Araport11 Pre-release 3<br/>(12/2015)</th></tr>\n",
    "<tr class='odd'><td>Number of protein coding loci</td><td>27,416</td><td>27,667</td></tr>\n",
    "<tr class='even'><td>Number of transcripts including isoforms</td><td>35,385</td><td>48,389</td></tr>\n",
    "<tr class='odd'><td>Number of TAIR10 transcripts with altered CDS</td><td></td><td>1,191 (4.6%)</td></tr>\n",
    "<tr class='even'><td>Number of TAIR10 transcripts with altered UTRs</td><td></td><td>24,185 (95.4%)</td></tr>\n",
    "<tr class='odd'><td>Number of loci with splice isoform</td><td>5,665 (18%)</td><td>10,698 (38.7%)</td></tr>\n",
    "<tr class='even'><td>Number of novel loci</td><td></td><td>719</td></tr>\n",
    "</table>"
   ]
  },
  {
   "cell_type": "code",
   "execution_count": null,
   "metadata": {
    "collapsed": false
   },
   "outputs": [],
   "source": []
  },
  {
   "cell_type": "code",
   "execution_count": null,
   "metadata": {
    "collapsed": false
   },
   "outputs": [],
   "source": [
    "# Once translations have been made, see which loci have changed and check annotations\n",
    "# translate: 1. RTD2\n",
    "#             2. TAIR\n",
    "#             3. Araport\n",
    "        \n",
    "# check longest ORF and longest mRNA methods against most common ORF\n",
    "#check sense of transcript matches sense of locus?"
   ]
  },
  {
   "cell_type": "code",
   "execution_count": null,
   "metadata": {
    "collapsed": false
   },
   "outputs": [],
   "source": [
    "# assemble AtRTD2 models\n",
    "def get_models_RTD(gff_lines):\n",
    "    locus_dict = {}\n",
    "    for line in gff_lines:\n",
    "        line=line.strip()\n",
    "        if line.startswith('#'):\n",
    "            continue\n",
    "        line_fields = line.split('\\t')\n",
    "        transcript_ID = line_fields[8].split(';')[0][15:-1]\n",
    "        locus_ID = line_fields[8].split(';')[1][10:19]\n",
    "\n",
    "        if not locus_ID.startswith('AT'):\n",
    "            print line\n",
    "        \n",
    "        if locus_ID not in locus_dict:\n",
    "            gene_model = Gene(locus_ID)\n",
    "            gene_model.add_sense(line_fields[6])\n",
    "            locus_dict.update({locus_ID: gene_model})\n",
    "        else:\n",
    "            gene_model = locus_dict[locus_ID]\n",
    "            \n",
    "        if transcript_ID not in gene_model.transcript_dict:\n",
    "            transcript_model = Transcript(transcript_ID)\n",
    "            transcript_model.sense = line_fields[6]\n",
    "            gene_model.transcript_dict.update({transcript_ID:transcript_model})\n",
    "        transcript_model = gene_model.transcript_dict[transcript_ID]    \n",
    "  \n",
    "        if line_fields[2] == 'CDS':# and proteinCoding == True:\n",
    "            cds_coords = [int(line_fields[3]), int(line_fields[4])]\n",
    "            transcript_model.add_CDS(cds_coords)\n",
    "\n",
    "        if line_fields[2] == 'exon':# and proteinCoding == True:\n",
    "            exon_coords = [int(line_fields[3]), int(line_fields[4])]\n",
    "            transcript_model.add_exon(exon_coords)\n",
    "        \n",
    "        gene_model.transcript_dict.update({transcript_ID:transcript_model})\n",
    "        locus_dict.update({locus_ID: gene_model})\n",
    "    return locus_dict\n",
    "\n",
    "\n",
    "infile = open('./AtRTD2_19April2016.gtf', 'rU')\n",
    "gff_lines = infile.readlines()\n",
    "infile.close()\n",
    "atRTD2 = get_models_RTD(gff_lines)\n",
    "\n",
    "###########################################################################\n",
    "# add sequences to atRTD2 models\n",
    "\n",
    "infile = open('./AtRTD2_19April2016.fa', 'rU')\n",
    "for line in infile:\n",
    "    line = line.strip()\n",
    "    if line.startswith('>'):\n",
    "        seq = ''\n",
    "        line = line.split(' ')\n",
    "        model_id = line[0][1:]\n",
    "        gene_id = line[0][1:10] \n",
    "\n",
    "        gene_model = atRTD2[gene_id]\n",
    "        transcript_model = gene_model.transcript_dict[model_id]\n",
    "    \n",
    "    else:\n",
    "        transcript_model.seq += line\n",
    "infile.close()"
   ]
  },
  {
   "cell_type": "code",
   "execution_count": 14,
   "metadata": {
    "collapsed": false
   },
   "outputs": [],
   "source": [
    "# move this up to the transcript model\n",
    "\n",
    "def translate_seq(sequence):\n",
    "    'Returns the amino acid translation of a given sequence'\n",
    "    codon_table = {'TTT':'F', 'TTC':'F', 'TTA':'L', 'TTG':'L', \n",
    "                   'TCT':'S', 'TCC':'S', 'TCA':'S', 'TCG':'S',\n",
    "                   'TAT':'Y', 'TAC':'Y', 'TAA':'*', 'TAG':'*', \n",
    "                   'TGT':'C', 'TGC':'C', 'TGA':'*', 'TGG':'W',\n",
    "                   'CTT':'L', 'CTC':'L', 'CTA':'L', 'CTG':'L', \n",
    "                   'CCT':'P', 'CCC':'P', 'CCA':'P', 'CCG':'P',\n",
    "                   'CAT':'H', 'CAC':'H', 'CAA':'Q', 'CAG':'Q', \n",
    "                   'CGT':'R', 'CGC':'R', 'CGA':'R', 'CGG':'R', \n",
    "                   'ATT':'I', 'ATC':'I', 'ATA':'I', 'ATG':'M', \n",
    "                   'ACT':'T', 'ACC':'T', 'ACA':'T', 'ACG':'T',\n",
    "                   'AAT':'N', 'AAC':'N', 'AAA':'K', 'AAG':'K', \n",
    "                   'AGT':'S', 'AGC':'S', 'AGA':'R', 'AGG':'R',\n",
    "                   'GTT':'V', 'GTC':'V', 'GTA':'V', 'GTG':'V', \n",
    "                   'GCT':'A', 'GCC':'A', 'GCA':'A', 'GCG':'A',\n",
    "                   'GAT':'D', 'GAC':'D', 'GAA':'E', 'GAG':'E', \n",
    "                   'GGT':'G', 'GGC':'G', 'GGA':'G', 'GGG':'G'}\n",
    "    codon_pos = 0\n",
    "    trans = ''\n",
    "    while codon_pos < (len(sequence) - 2):     \n",
    "        codon = sequence[codon_pos:codon_pos + 3]\n",
    "        if codon in codon_table:\n",
    "            aa = codon_table[codon]\n",
    "        else:\n",
    "            aa = 'x'\n",
    "        trans = trans + aa\n",
    "        if aa == '*':\n",
    "            return trans\n",
    "        codon_pos += 3\n",
    "    return trans\n"
   ]
  },
  {
   "cell_type": "code",
   "execution_count": 15,
   "metadata": {
    "collapsed": true
   },
   "outputs": [],
   "source": [
    "def quick_cds():\n",
    "    '''\n",
    "    only the start and stop positions\n",
    "    '''\n",
    "    \n",
    "    \n",
    "    \n",
    "def full_cds():\n",
    "    '''\n",
    "    list each exon portion of the cds, including phase\n",
    "    Chr1\tAraport11\tgene\t6788\t9130\t.\t-\t.\tID=AT1G01020;Name=AT1G01020;Note=ARV1 family protein\n",
    "    Chr1\tAraport11\tmRNA\t6788\t8737\t.\t-\t.\tID=AT1G01020.2;Parent=AT1G01020;Note=ARV1 family protein\n",
    "    Chr1\tAraport11\tCDS\t7315\t7450\t.\t-\t1\tID=AT1G01020:CDS:10;Parent=AT1G01020.2\n",
    "    Chr1\tAraport11\tCDS\t7564\t7649\t.\t-\t0\tID=AT1G01020:CDS:8;Parent=AT1G01020.2\n",
    "    Chr1\tAraport11\tCDS\t7762\t7835\t.\t-\t2\tID=AT1G01020:CDS:7;Parent=AT1G01020.2\n",
    "    '''\n",
    "    line = '{seqid} \\t {source} \\t {type} \\t {start} \\t {end} \\t {score} \\t {strand} \\t {phase} \\t {attributes}'\n",
    "    seqid"
   ]
  },
  {
   "cell_type": "code",
   "execution_count": 16,
   "metadata": {
    "collapsed": false
   },
   "outputs": [
    {
     "name": "stdout",
     "output_type": "stream",
     "text": [
      "ab \t cd \t ef \t 4 \t 6 \t . \t + \t 0 \t test \n",
      "\n"
     ]
    }
   ],
   "source": [
    "line = '{seqid} \\t {source} \\t {type} \\t {start} \\t {end} \\t {score} \\t {strand} \\t {phase} \\t {attributes} \\n'\n",
    "\n",
    "details ={'seqid':'ab', 'source':'cd','type':'ef','start':4, 'end':6, 'score':'.','strand':'+', 'phase':0, 'attributes':'test'}\n",
    "\n",
    "print line.format(**details)"
   ]
  },
  {
   "cell_type": "code",
   "execution_count": 17,
   "metadata": {
    "collapsed": false
   },
   "outputs": [
    {
     "ename": "NameError",
     "evalue": "name 'atRTD2' is not defined",
     "output_type": "error",
     "traceback": [
      "\u001b[1;31m---------------------------------------------------------------------------\u001b[0m",
      "\u001b[1;31mNameError\u001b[0m                                 Traceback (most recent call last)",
      "\u001b[1;32m<ipython-input-17-f69bb91cfc47>\u001b[0m in \u001b[0;36m<module>\u001b[1;34m()\u001b[0m\n\u001b[0;32m      8\u001b[0m \u001b[0mmodel_count\u001b[0m \u001b[1;33m=\u001b[0m \u001b[1;36m0\u001b[0m\u001b[1;33m\u001b[0m\u001b[0m\n\u001b[0;32m      9\u001b[0m \u001b[0mretro_transposons\u001b[0m \u001b[1;33m=\u001b[0m \u001b[1;33m[\u001b[0m\u001b[1;33m]\u001b[0m\u001b[1;33m\u001b[0m\u001b[0m\n\u001b[1;32m---> 10\u001b[1;33m \u001b[1;32mfor\u001b[0m \u001b[0mlocus_id\u001b[0m \u001b[1;32min\u001b[0m \u001b[0msorted\u001b[0m\u001b[1;33m(\u001b[0m\u001b[0matRTD2\u001b[0m\u001b[1;33m.\u001b[0m\u001b[0mkeys\u001b[0m\u001b[1;33m(\u001b[0m\u001b[1;33m)\u001b[0m\u001b[1;33m)\u001b[0m\u001b[1;33m:\u001b[0m\u001b[1;33m\u001b[0m\u001b[0m\n\u001b[0m\u001b[0;32m     11\u001b[0m     \u001b[1;32mif\u001b[0m \u001b[0mlocus_id\u001b[0m \u001b[1;32mnot\u001b[0m \u001b[1;32min\u001b[0m \u001b[0maraport\u001b[0m\u001b[1;33m:\u001b[0m\u001b[1;33m\u001b[0m\u001b[0m\n\u001b[0;32m     12\u001b[0m         \u001b[0mabsent_araport\u001b[0m\u001b[1;33m.\u001b[0m\u001b[0mappend\u001b[0m\u001b[1;33m(\u001b[0m\u001b[0mlocus_id\u001b[0m\u001b[1;33m)\u001b[0m\u001b[1;33m\u001b[0m\u001b[0m\n",
      "\u001b[1;31mNameError\u001b[0m: name 'atRTD2' is not defined"
     ]
    }
   ],
   "source": [
    "outfile = open('./peptides_29jun16.fa','wb')\n",
    "\n",
    "\n",
    "absent_araport = []\n",
    "nay=[]\n",
    "no_exon_counter = 0\n",
    "rep_atg_absent = []\n",
    "model_count = 0\n",
    "retro_transposons = []\n",
    "for locus_id in sorted(atRTD2.keys()):\n",
    "    if locus_id not in araport:\n",
    "        absent_araport.append(locus_id)\n",
    "        continue\n",
    "    if araport[locus_id].transposon is True:\n",
    "        retro_transposons.append(locus_id)\n",
    "        continue\n",
    "    atg_pos = araport[locus_id].rep_atg\n",
    "    gene_model = atRTD2[locus_id]\n",
    "    transcript_dict = gene_model.transcript_dict\n",
    "    for transcript_id in transcript_dict:\n",
    "        model_count += 1\n",
    "        \n",
    "        transcript_model = transcript_dict[transcript_id]\n",
    "######################################################################\n",
    "# move this into a function, or even into transcript model\n",
    "        if transcript_model.sense == '+':\n",
    "            exon_list = transcript_model.exon_list\n",
    "        else:\n",
    "            exon_list = transcript_model.exon_list[::-1]\n",
    "\n",
    "        cds_index = 0\n",
    "        z = False\n",
    "        for exon in exon_list:\n",
    "            if atg_pos not in range(exon[0],exon[1]+1):\n",
    "                cds_index +=  1+exon[1] - exon[0]\n",
    "            else:\n",
    "                if transcript_model.sense == '+':\n",
    "                    cds_index += atg_pos - exon[0]\n",
    "                    z = True\n",
    "                    break\n",
    "                else:\n",
    "                    cds_index += exon[1] - atg_pos\n",
    "                    z = True\n",
    "                    break    \n",
    "        if z is False:\n",
    "            rep_atg_absent.append(transcript_id)\n",
    "            continue\n",
    "        seq = transcript_model.seq[cds_index:]\n",
    "######################################################################\n",
    "        \n",
    "        \n",
    "        if not seq.startswith('ATG'):\n",
    "            nay.append(transcript_id)\n",
    "            continue\n",
    "\n",
    "            print transcript_id\n",
    "            print seq\n",
    "            print exon_list\n",
    "            print atg_pos\n",
    "            print cds_index\n",
    "            \n",
    "            raise(AssertionError)\n",
    "        else:\n",
    "            peptide = translate_seq(seq)\n",
    "            outfile.writelines('>'+transcript_id+'\\n')\n",
    "            outfile.writelines(peptide+'\\n\\n')\n",
    "            \n",
    "outfile.close()\n",
    "print \"locus id not in araport\", len(absent_araport)           \n",
    "print \"rep atg not in transcript\",len(rep_atg_absent)\n",
    "print \"transposon loci\", len(retro_transposons)\n",
    "print \"total models considered\", model_count\n",
    "print len(nay)"
   ]
  },
  {
   "cell_type": "code",
   "execution_count": 18,
   "metadata": {
    "collapsed": false,
    "scrolled": true
   },
   "outputs": [],
   "source": [
    "for i in absent_araport[:2]:\n",
    "    print i"
   ]
  },
  {
   "cell_type": "code",
   "execution_count": 19,
   "metadata": {
    "collapsed": false
   },
   "outputs": [
    {
     "data": {
      "text/plain": [
       "False"
      ]
     },
     "execution_count": 19,
     "metadata": {},
     "output_type": "execute_result"
    }
   ],
   "source": [
    "for i in rep_atg_absent[:2]:\n",
    "    print i\n",
    "    \n",
    "'AT4G38440.4' in rep_atg_absent"
   ]
  },
  {
   "cell_type": "code",
   "execution_count": 20,
   "metadata": {
    "collapsed": false
   },
   "outputs": [],
   "source": [
    "for i in retro_transposons:\n",
    "    print i"
   ]
  },
  {
   "cell_type": "code",
   "execution_count": null,
   "metadata": {
    "collapsed": true
   },
   "outputs": [],
   "source": [
    "# For loci not in araport, presumably these are not protein encoding\n",
    "# For cases where ATG is not present: who knows? Re-run the longest ORF-finding program using atRTD2 transcripts?\n",
    "# Last time, there were several antisense transcripts\n",
    "\n",
    "#locus id not in araport 6635\n",
    "#rep atg not in transcript 4339\n",
    "#transposon loci 37\n",
    "#total models considered 74151\n",
    "#90"
   ]
  }
 ],
 "metadata": {
  "kernelspec": {
   "display_name": "Python 2",
   "language": "python",
   "name": "python2"
  },
  "language_info": {
   "codemirror_mode": {
    "name": "ipython",
    "version": 2
   },
   "file_extension": ".py",
   "mimetype": "text/x-python",
   "name": "python",
   "nbconvert_exporter": "python",
   "pygments_lexer": "ipython2",
   "version": "2.7.11"
  }
 },
 "nbformat": 4,
 "nbformat_minor": 0
}
